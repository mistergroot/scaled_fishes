{
 "cells": [
  {
   "cell_type": "code",
   "execution_count": 1,
   "id": "c33b174f",
   "metadata": {},
   "outputs": [],
   "source": [
    "import pandas as pd\n",
    "import numpy as np\n",
    "import matplotlib.pyplot as plt\n",
    "import seaborn as sns\n",
    "import subprocess\n",
    "import glob"
   ]
  },
  {
   "cell_type": "code",
   "execution_count": 2,
   "id": "b9da987e",
   "metadata": {},
   "outputs": [
    {
     "name": "stderr",
     "output_type": "stream",
     "text": [
      "/tmp/ipykernel_1496983/845316161.py:5: FutureWarning: The default value of regex will change from True to False in a future version. In addition, single character regular expressions will *not* be treated as literal strings when regex=True.\n",
      "  sra_meta[\"Source\"] = sra_meta[\"geo_loc_name\"].str.replace(\"Canada:\", \"\").str.replace(\"\\\\\", \"\")\n"
     ]
    }
   ],
   "source": [
    "meta = pd.read_csv(\"../ST_metadata.csv\")\n",
    "sra_meta = pd.read_csv(\"../SraRunTable.csv\")\n",
    "sra_meta[\"Sample_ID\"] = sra_meta[\"Run\"]\n",
    "sra_meta = sra_meta[[\"geo_loc_name\", \"Sample_ID\"]]\n",
    "sra_meta[\"Source\"] = sra_meta[\"geo_loc_name\"].str.replace(\"Canada:\", \"\").str.replace(\"\\\\\", \"\")\n",
    "sra_meta = sra_meta.sample(30, random_state = 666).reset_index(drop=True)\n",
    "meta = pd.concat([meta, sra_meta[[\"Sample_ID\", \"Source\"]]]).reset_index(drop=True)"
   ]
  },
  {
   "cell_type": "code",
   "execution_count": 3,
   "id": "635d32aa",
   "metadata": {},
   "outputs": [],
   "source": [
    "meta.loc[meta[\"Water\"] != \"Hatchery\", \"Water\"] = \"Wild\""
   ]
  },
  {
   "cell_type": "code",
   "execution_count": 4,
   "id": "6efc171a",
   "metadata": {},
   "outputs": [],
   "source": [
    "meta[\"filepaths\"] = np.nan\n",
    "meta.loc[meta[\"Sample_ID\"].str.contains(\"SRR\"), \"filepaths\"] = \"/storage/home/nsl5160/scratch/brook_trout/sra_mapped/\" + meta[\"Sample_ID\"] + \".markdup.bam\"\n",
    "meta.loc[~meta[\"Sample_ID\"].str.contains(\"SRR\"), \"filepaths\"] = \"/storage/home/nsl5160/scratch/brook_trout/mapped/\" + meta[\"Sample_ID\"] + \".markdup.bam\""
   ]
  },
  {
   "cell_type": "code",
   "execution_count": 5,
   "id": "85f60eec",
   "metadata": {},
   "outputs": [],
   "source": [
    "meta = meta[meta[\"filepaths\"] != \"/storage/home/nsl5160/scratch/brook_trout/mapped/Horn_8.markdup.bam\"].reset_index(drop=True)"
   ]
  },
  {
   "cell_type": "code",
   "execution_count": 13,
   "id": "10d01f73",
   "metadata": {},
   "outputs": [
    {
     "data": {
      "text/plain": [
       "17"
      ]
     },
     "execution_count": 13,
     "metadata": {},
     "output_type": "execute_result"
    }
   ],
   "source": [
    "len(meta[meta[\"Source\"] == \" Mistassini Lake, Cheno River\"])"
   ]
  },
  {
   "cell_type": "code",
   "execution_count": 15,
   "id": "ca95e64c",
   "metadata": {},
   "outputs": [
    {
     "data": {
      "text/html": [
       "<div>\n",
       "<style scoped>\n",
       "    .dataframe tbody tr th:only-of-type {\n",
       "        vertical-align: middle;\n",
       "    }\n",
       "\n",
       "    .dataframe tbody tr th {\n",
       "        vertical-align: top;\n",
       "    }\n",
       "\n",
       "    .dataframe thead th {\n",
       "        text-align: right;\n",
       "    }\n",
       "</style>\n",
       "<table border=\"1\" class=\"dataframe\">\n",
       "  <thead>\n",
       "    <tr style=\"text-align: right;\">\n",
       "      <th></th>\n",
       "      <th>Sample_ID</th>\n",
       "      <th>FISH_N</th>\n",
       "      <th>Strain</th>\n",
       "      <th>Source</th>\n",
       "      <th>Water</th>\n",
       "      <th>NY Native?</th>\n",
       "      <th>Notes</th>\n",
       "      <th>Batch</th>\n",
       "      <th>filepaths</th>\n",
       "    </tr>\n",
       "  </thead>\n",
       "  <tbody>\n",
       "    <tr>\n",
       "      <th>0</th>\n",
       "      <td>Temi_1</td>\n",
       "      <td>NaN</td>\n",
       "      <td>Temiscamie</td>\n",
       "      <td>Temiscamie</td>\n",
       "      <td>Hatchery</td>\n",
       "      <td>No</td>\n",
       "      <td>NaN</td>\n",
       "      <td>1.0</td>\n",
       "      <td>/storage/home/nsl5160/scratch/brook_trout/mapp...</td>\n",
       "    </tr>\n",
       "    <tr>\n",
       "      <th>1</th>\n",
       "      <td>Temi_2</td>\n",
       "      <td>NaN</td>\n",
       "      <td>Temiscamie</td>\n",
       "      <td>Temiscamie</td>\n",
       "      <td>Hatchery</td>\n",
       "      <td>No</td>\n",
       "      <td>NaN</td>\n",
       "      <td>1.0</td>\n",
       "      <td>/storage/home/nsl5160/scratch/brook_trout/mapp...</td>\n",
       "    </tr>\n",
       "    <tr>\n",
       "      <th>2</th>\n",
       "      <td>Temi_3</td>\n",
       "      <td>NaN</td>\n",
       "      <td>Temiscamie</td>\n",
       "      <td>Temiscamie</td>\n",
       "      <td>Hatchery</td>\n",
       "      <td>No</td>\n",
       "      <td>NaN</td>\n",
       "      <td>1.0</td>\n",
       "      <td>/storage/home/nsl5160/scratch/brook_trout/mapp...</td>\n",
       "    </tr>\n",
       "    <tr>\n",
       "      <th>3</th>\n",
       "      <td>Temi_4</td>\n",
       "      <td>NaN</td>\n",
       "      <td>Temiscamie</td>\n",
       "      <td>Temiscamie</td>\n",
       "      <td>Hatchery</td>\n",
       "      <td>No</td>\n",
       "      <td>NaN</td>\n",
       "      <td>1.0</td>\n",
       "      <td>/storage/home/nsl5160/scratch/brook_trout/mapp...</td>\n",
       "    </tr>\n",
       "    <tr>\n",
       "      <th>4</th>\n",
       "      <td>Temi_5</td>\n",
       "      <td>NaN</td>\n",
       "      <td>Temiscamie</td>\n",
       "      <td>Temiscamie</td>\n",
       "      <td>Hatchery</td>\n",
       "      <td>No</td>\n",
       "      <td>NaN</td>\n",
       "      <td>1.0</td>\n",
       "      <td>/storage/home/nsl5160/scratch/brook_trout/mapp...</td>\n",
       "    </tr>\n",
       "    <tr>\n",
       "      <th>...</th>\n",
       "      <td>...</td>\n",
       "      <td>...</td>\n",
       "      <td>...</td>\n",
       "      <td>...</td>\n",
       "      <td>...</td>\n",
       "      <td>...</td>\n",
       "      <td>...</td>\n",
       "      <td>...</td>\n",
       "      <td>...</td>\n",
       "    </tr>\n",
       "    <tr>\n",
       "      <th>214</th>\n",
       "      <td>SRR30664563</td>\n",
       "      <td>NaN</td>\n",
       "      <td>NaN</td>\n",
       "      <td>Mistassini Lake, Cheno River</td>\n",
       "      <td>Wild</td>\n",
       "      <td>NaN</td>\n",
       "      <td>NaN</td>\n",
       "      <td>NaN</td>\n",
       "      <td>/storage/home/nsl5160/scratch/brook_trout/sra_...</td>\n",
       "    </tr>\n",
       "    <tr>\n",
       "      <th>215</th>\n",
       "      <td>SRR30664594</td>\n",
       "      <td>NaN</td>\n",
       "      <td>NaN</td>\n",
       "      <td>Mistassini Lake, Rupert River</td>\n",
       "      <td>Wild</td>\n",
       "      <td>NaN</td>\n",
       "      <td>NaN</td>\n",
       "      <td>NaN</td>\n",
       "      <td>/storage/home/nsl5160/scratch/brook_trout/sra_...</td>\n",
       "    </tr>\n",
       "    <tr>\n",
       "      <th>216</th>\n",
       "      <td>SRR30664569</td>\n",
       "      <td>NaN</td>\n",
       "      <td>NaN</td>\n",
       "      <td>Mistassini Lake, Cheno River</td>\n",
       "      <td>Wild</td>\n",
       "      <td>NaN</td>\n",
       "      <td>NaN</td>\n",
       "      <td>NaN</td>\n",
       "      <td>/storage/home/nsl5160/scratch/brook_trout/sra_...</td>\n",
       "    </tr>\n",
       "    <tr>\n",
       "      <th>217</th>\n",
       "      <td>SRR30664572</td>\n",
       "      <td>NaN</td>\n",
       "      <td>NaN</td>\n",
       "      <td>Mistassini Lake, Rupert River</td>\n",
       "      <td>Wild</td>\n",
       "      <td>NaN</td>\n",
       "      <td>NaN</td>\n",
       "      <td>NaN</td>\n",
       "      <td>/storage/home/nsl5160/scratch/brook_trout/sra_...</td>\n",
       "    </tr>\n",
       "    <tr>\n",
       "      <th>218</th>\n",
       "      <td>SRR30664623</td>\n",
       "      <td>NaN</td>\n",
       "      <td>NaN</td>\n",
       "      <td>Mistassini Lake, Cheno River</td>\n",
       "      <td>Wild</td>\n",
       "      <td>NaN</td>\n",
       "      <td>NaN</td>\n",
       "      <td>NaN</td>\n",
       "      <td>/storage/home/nsl5160/scratch/brook_trout/sra_...</td>\n",
       "    </tr>\n",
       "  </tbody>\n",
       "</table>\n",
       "<p>219 rows × 9 columns</p>\n",
       "</div>"
      ],
      "text/plain": [
       "       Sample_ID FISH_N      Strain                          Source     Water  \\\n",
       "0         Temi_1    NaN  Temiscamie                      Temiscamie  Hatchery   \n",
       "1         Temi_2    NaN  Temiscamie                      Temiscamie  Hatchery   \n",
       "2         Temi_3    NaN  Temiscamie                      Temiscamie  Hatchery   \n",
       "3         Temi_4    NaN  Temiscamie                      Temiscamie  Hatchery   \n",
       "4         Temi_5    NaN  Temiscamie                      Temiscamie  Hatchery   \n",
       "..           ...    ...         ...                             ...       ...   \n",
       "214  SRR30664563    NaN         NaN    Mistassini Lake, Cheno River      Wild   \n",
       "215  SRR30664594    NaN         NaN   Mistassini Lake, Rupert River      Wild   \n",
       "216  SRR30664569    NaN         NaN    Mistassini Lake, Cheno River      Wild   \n",
       "217  SRR30664572    NaN         NaN   Mistassini Lake, Rupert River      Wild   \n",
       "218  SRR30664623    NaN         NaN    Mistassini Lake, Cheno River      Wild   \n",
       "\n",
       "    NY Native? Notes  Batch                                          filepaths  \n",
       "0           No   NaN    1.0  /storage/home/nsl5160/scratch/brook_trout/mapp...  \n",
       "1           No   NaN    1.0  /storage/home/nsl5160/scratch/brook_trout/mapp...  \n",
       "2           No   NaN    1.0  /storage/home/nsl5160/scratch/brook_trout/mapp...  \n",
       "3           No   NaN    1.0  /storage/home/nsl5160/scratch/brook_trout/mapp...  \n",
       "4           No   NaN    1.0  /storage/home/nsl5160/scratch/brook_trout/mapp...  \n",
       "..         ...   ...    ...                                                ...  \n",
       "214        NaN   NaN    NaN  /storage/home/nsl5160/scratch/brook_trout/sra_...  \n",
       "215        NaN   NaN    NaN  /storage/home/nsl5160/scratch/brook_trout/sra_...  \n",
       "216        NaN   NaN    NaN  /storage/home/nsl5160/scratch/brook_trout/sra_...  \n",
       "217        NaN   NaN    NaN  /storage/home/nsl5160/scratch/brook_trout/sra_...  \n",
       "218        NaN   NaN    NaN  /storage/home/nsl5160/scratch/brook_trout/sra_...  \n",
       "\n",
       "[219 rows x 9 columns]"
      ]
     },
     "execution_count": 15,
     "metadata": {},
     "output_type": "execute_result"
    }
   ],
   "source": [
    "meta"
   ]
  },
  {
   "cell_type": "code",
   "execution_count": 19,
   "id": "90708305",
   "metadata": {
    "scrolled": true
   },
   "outputs": [
    {
     "data": {
      "text/plain": [
       "[' Mistassini Lake, Cheno River',\n",
       " 'Windfall',\n",
       " 'Domestic',\n",
       " 'Little Tupper',\n",
       " 'Temiscamie',\n",
       " 'Assinica',\n",
       " 'Horn',\n",
       " ' Mistassini Lake, Rupert River']"
      ]
     },
     "execution_count": 19,
     "metadata": {},
     "output_type": "execute_result"
    }
   ],
   "source": [
    "pd.DataFrame(meta[\"Source\"].value_counts().head(8)).index.tolist()"
   ]
  },
  {
   "cell_type": "code",
   "execution_count": 22,
   "id": "2bb6c02d",
   "metadata": {},
   "outputs": [
    {
     "name": "stdout",
     "output_type": "stream",
     "text": [
      "-rw-rw-r-- 1 nsl5160 nsl5160_collab 16G Feb 20 01:56 /storage/home/nsl5160/scratch/brook_trout/sra_mapped/SRR30664596.markdup.bam\n",
      "-rw-rw-r-- 1 nsl5160 nsl5160_collab 15G Feb 20 00:13 /storage/home/nsl5160/scratch/brook_trout/sra_mapped/SRR30664587.markdup.bam\n",
      "-rw-rw-r-- 1 nsl5160 nsl5160_collab 919M Feb 19 16:41 /storage/home/nsl5160/scratch/brook_trout/sra_mapped/SRR30664570.markdup.bam\n",
      "-rw-rw-r-- 1 nsl5160 nsl5160_collab 12G Feb 20 08:11 /storage/home/nsl5160/scratch/brook_trout/sra_mapped/SRR30664579.markdup.bam\n",
      "-rw-rw-r-- 1 nsl5160 nsl5160_collab 14G Feb 20 11:43 /storage/home/nsl5160/scratch/brook_trout/sra_mapped/SRR30664584.markdup.bam\n",
      "-rw-rw-r-- 1 nsl5160 nsl5160_collab 16G Feb 19 19:56 /storage/home/nsl5160/scratch/brook_trout/sra_mapped/SRR30664565.markdup.bam\n",
      "-rw-rw-r-- 1 nsl5160 nsl5160_collab 14G Feb 19 21:26 /storage/home/nsl5160/scratch/brook_trout/sra_mapped/SRR30664599.markdup.bam\n",
      "-rw-rw-r-- 1 nsl5160 nsl5160_collab 13G Feb 20 17:34 /storage/home/nsl5160/scratch/brook_trout/sra_mapped/SRR30664597.markdup.bam\n",
      "-rw-rw-r-- 1 nsl5160 nsl5160_collab 13G Feb 20 06:23 /storage/home/nsl5160/scratch/brook_trout/sra_mapped/SRR30664581.markdup.bam\n",
      "-rw-rw-r-- 1 nsl5160 nsl5160_collab 18G Feb 20 14:27 /storage/home/nsl5160/scratch/brook_trout/sra_mapped/SRR30664585.markdup.bam\n",
      "-rw-rw-r-- 1 nsl5160 nsl5160_collab 14G Feb 20 03:57 /storage/home/nsl5160/scratch/brook_trout/sra_mapped/SRR30664583.markdup.bam\n",
      "-rw-rw-r-- 1 nsl5160 nsl5160_collab 16G Feb 19 23:17 /storage/home/nsl5160/scratch/brook_trout/sra_mapped/SRR30664594.markdup.bam\n",
      "-rw-rw-r-- 1 nsl5160 nsl5160_collab 12G Feb 19 16:27 /storage/home/nsl5160/scratch/brook_trout/sra_mapped/SRR30664572.markdup.bam\n"
     ]
    }
   ],
   "source": [
    "for path in meta[\"filepaths\"][meta[\"Source\"] == \" Mistassini Lake, Rupert River\"].tolist():\n",
    "    subprocess.run([\"ls -lh \" + path], shell = True)"
   ]
  },
  {
   "cell_type": "code",
   "execution_count": null,
   "id": "832f6443",
   "metadata": {},
   "outputs": [],
   "source": []
  }
 ],
 "metadata": {
  "kernelspec": {
   "display_name": "orbicella",
   "language": "python",
   "name": "orbicella"
  },
  "language_info": {
   "codemirror_mode": {
    "name": "ipython",
    "version": 3
   },
   "file_extension": ".py",
   "mimetype": "text/x-python",
   "name": "python",
   "nbconvert_exporter": "python",
   "pygments_lexer": "ipython3",
   "version": "3.9.19"
  }
 },
 "nbformat": 4,
 "nbformat_minor": 5
}
