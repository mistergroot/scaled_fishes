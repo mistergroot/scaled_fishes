{
 "cells": [
  {
   "cell_type": "code",
   "execution_count": 11,
   "id": "ea81bb4f-725a-423f-a6ba-ddba269abbd7",
   "metadata": {},
   "outputs": [],
   "source": [
    "import pandas as pd\n",
    "import numpy as np\n",
    "import glob\n",
    "import subprocess"
   ]
  },
  {
   "cell_type": "code",
   "execution_count": 9,
   "id": "97ddb4c9-e146-44d9-a77c-1a98e71b4c07",
   "metadata": {},
   "outputs": [],
   "source": [
    "downloaddict = {\"Chrosomus eos\": \"https://ftp.ncbi.nlm.nih.gov/genomes/all/GCA/036/326/025/GCA_036326025.1_ASM3632602v1/GCA_036326025.1_ASM3632602v1_genomic.fna.gz\", \n",
    " \"Salvelinus namaycush\": \"https://ftp.ncbi.nlm.nih.gov/genomes/all/GCF/016/432/855/GCF_016432855.1_SaNama_1.0/GCF_016432855.1_SaNama_1.0_genomic.fna.gz\", \n",
    " \"Osmerus mordax\": \"https://ftp.ncbi.nlm.nih.gov/genomes/all/GCF/038/355/195/GCF_038355195.1_fOsmMor3.pri/GCF_038355195.1_fOsmMor3.pri_genomic.fna.gz\", \n",
    " \"Catostomus latipinnis\": \"https://ftp.ncbi.nlm.nih.gov/genomes/all/GCA/036/785/435/GCA_036785435.1_ASM3678543v1/GCA_036785435.1_ASM3678543v1_genomic.fna.gz\", \n",
    " \"Micropterus dolomieu\": \"https://ftp.ncbi.nlm.nih.gov/genomes/all/GCF/021/292/245/GCF_021292245.1_ASM2129224v1/GCF_021292245.1_ASM2129224v1_genomic.fna.gz\", \n",
    " \"Salmo trutta\": \"https://ftp.ncbi.nlm.nih.gov/genomes/all/GCF/901/001/165/GCF_901001165.1_fSalTru1.1/GCF_901001165.1_fSalTru1.1_genomic.fna.gz\", \n",
    " \"Oncorhynchus mykiss\": \"https://ftp.ncbi.nlm.nih.gov/genomes/all/GCF/013/265/735/GCF_013265735.2_USDA_OmykA_1.1/GCF_013265735.2_USDA_OmykA_1.1_genomic.fna.gz\", \n",
    " \"Fundulus diaphanus\": \"https://ftp.ncbi.nlm.nih.gov/genomes/all/GCA/037/039/145/GCA_037039145.1_fFunDia1.hap1/GCA_037039145.1_fFunDia1.hap1_genomic.fna.gz\", \n",
    " \"Cottus gobio\": \"https://ftp.ncbi.nlm.nih.gov/genomes/all/GCA/023/566/465/GCA_023566465.1_ASM2356646v1/GCA_023566465.1_ASM2356646v1_genomic.fna.gz\", \n",
    " \"Umbra pygmaea\": \"https://ftp.ncbi.nlm.nih.gov/genomes/all/GCA/040/894/045/GCA_040894045.1_UPYG_1.0/GCA_040894045.1_UPYG_1.0_genomic.fna.gz\", \n",
    " \"Salmo salar\": \"https://ftp.ncbi.nlm.nih.gov/genomes/all/GCF/905/237/065/GCF_905237065.1_Ssal_v3.1/GCF_905237065.1_Ssal_v3.1_genomic.fna.gz\", \n",
    " \"Lepomis gibbosus\": \"https://ftp.ncbi.nlm.nih.gov/genomes/all/GCA/029/875/015/GCA_029875015.1_ASM2987501v1/GCA_029875015.1_ASM2987501v1_genomic.fna.gz\", \n",
    " \"Coregonus clupeaformis\": \"https://ftp.ncbi.nlm.nih.gov/genomes/all/GCF/020/615/455/GCF_020615455.1_ASM2061545v1/GCF_020615455.1_ASM2061545v1_genomic.fna.gz\", \n",
    " \"Micropterus salmoides\": \"https://ftp.ncbi.nlm.nih.gov/genomes/all/GCF/014/851/395/GCF_014851395.1_ASM1485139v1/GCF_014851395.1_ASM1485139v1_genomic.fna.gz\", \n",
    " \"Ameiurus melas\": \"https://ftp.ncbi.nlm.nih.gov/genomes/all/GCA/012/411/365/GCA_012411365.1_AMELA_1.0/GCA_012411365.1_AMELA_1.0_genomic.fna.gz\", \n",
    " \"Rhinichthys osculus\": \"https://ftp.ncbi.nlm.nih.gov/genomes/all/GCA/029/959/095/GCA_029959095.1_fRhiOsc1.0.hap1/GCA_029959095.1_fRhiOsc1.0.hap1_genomic.fna.gz\", \n",
    " \"Esox lucius\": \"https://ftp.ncbi.nlm.nih.gov/genomes/all/GCF/011/004/845/GCF_011004845.1_fEsoLuc1.pri/GCF_011004845.1_fEsoLuc1.pri_genomic.fna.gz\", \n",
    " \"Pimephales promelas\": \"https://ftp.ncbi.nlm.nih.gov/genomes/all/GCF/016/745/375/GCF_016745375.1_EPA_FHM_2.0/GCF_016745375.1_EPA_FHM_2.0_genomic.fna.gz\", \n",
    " \"Perca flavescens\": \"https://ftp.ncbi.nlm.nih.gov/genomes/all/GCF/004/354/835/GCF_004354835.1_PFLA_1.0/GCF_004354835.1_PFLA_1.0_genomic.fna.gz\", \n",
    " \"Semotilus atromaculatus\": \"https://ftp.ncbi.nlm.nih.gov/genomes/all/GCA/031/834/385/GCA_031834385.1_ASM3183438v1/GCA_031834385.1_ASM3183438v1_genomic.fna.gz\", \n",
    " \"Salvelinus fontinalis\": \"https://ftp.ncbi.nlm.nih.gov/genomes/all/GCF/029/448/725/GCF_029448725.1_ASM2944872v1/GCF_029448725.1_ASM2944872v1_genomic.fna.gz\"}"
   ]
  },
  {
   "cell_type": "code",
   "execution_count": 13,
   "id": "fc68cb23-ca01-4901-bdc4-6480f63679d0",
   "metadata": {},
   "outputs": [],
   "source": [
    "!mkdir -p ../busco_references"
   ]
  },
  {
   "cell_type": "code",
   "execution_count": null,
   "id": "c4802ada-0ff7-43c3-94cd-447e5ca5eff1",
   "metadata": {},
   "outputs": [],
   "source": [
    "for i in list(downloaddict.keys()):\n",
    "    subprocess.run([\"wget -O ../busco_references/\" + i.replace(\" \", \"_\") + \".fa.gz \" + downloaddict[i]], shell = True)"
   ]
  },
  {
   "cell_type": "code",
   "execution_count": 57,
   "id": "3805abca-b428-4f8c-a48f-6bcb541c261c",
   "metadata": {},
   "outputs": [
    {
     "name": "stdout",
     "output_type": "stream",
     "text": [
      "Submitted batch job 7557785\n",
      "Submitted batch job 7557786\n",
      "Submitted batch job 7557787\n",
      "Submitted batch job 7557788\n",
      "Submitted batch job 7557789\n",
      "Submitted batch job 7557790\n",
      "Submitted batch job 7557791\n",
      "Submitted batch job 7557792\n",
      "Submitted batch job 7557793\n",
      "Submitted batch job 7557794\n",
      "Submitted batch job 7557795\n",
      "Submitted batch job 7557796\n",
      "Submitted batch job 7557797\n",
      "Submitted batch job 7557798\n"
     ]
    }
   ],
   "source": [
    "for sp in [i.replace(\"../busco_references/\", \"\").replace(\".fa\", \"\") for i in glob.glob(\"../busco_references/*\")]:\n",
    "    task = \"busco\"\n",
    "    mem = \"150\"\n",
    "    cpus = \"12\"\n",
    "    inpath = \"../busco_references/\" + sp + \".fa\"\n",
    "    outpath = \"../busco_extract/\"\n",
    "    prefix = sp\n",
    "    subprocess.run([\"sbatch --mem=\" + mem + \"g --ntasks=\" + \n",
    "         cpus + \" ../\" + task + \".sh \" + \n",
    "         inpath + \" \" + outpath + \" \" + prefix ], shell=True)"
   ]
  },
  {
   "cell_type": "code",
   "execution_count": 41,
   "id": "3e00dcab-e0da-4245-853c-338b6c2b2fb4",
   "metadata": {},
   "outputs": [
    {
     "name": "stdout",
     "output_type": "stream",
     "text": [
      "#!/bin/bash\n",
      "#SBATCH --partition=mpcs_hifmb.p\n",
      "#SBATCH --nodes=1\n",
      "#SBATCH --time=48:00:00\n",
      "#SBATCH --job-name=busco\n",
      "\n",
      "source ~/.bashrc\n",
      "conda activate primerdesign\n",
      "\n",
      "INPATH=$1\n",
      "OUTDIR=$2\n",
      "OUTPREFIX=$3\n",
      "\n",
      "cd $SLURM_SUBMIT_DIR\n",
      "mkdir -p ${OUTDIR}\n",
      "\n",
      "busco -m genome -l actinopterygii \\\n",
      "    --download_path ${OUTDIR} --out ${OUTDIR}/${OUTPREFIX} \\\n",
      "    --metaeuk --cpu ${SLURM_NTASKS} \\\n",
      "    --in ${INPATH}\n"
     ]
    }
   ],
   "source": [
    "!cat ../busco.sh"
   ]
  },
  {
   "cell_type": "code",
   "execution_count": null,
   "id": "f72de4b0-0b6b-4c8e-82d5-9e4cb76e89c3",
   "metadata": {},
   "outputs": [],
   "source": []
  }
 ],
 "metadata": {
  "kernelspec": {
   "display_name": "orbicella",
   "language": "python",
   "name": "orbicella"
  },
  "language_info": {
   "codemirror_mode": {
    "name": "ipython",
    "version": 3
   },
   "file_extension": ".py",
   "mimetype": "text/x-python",
   "name": "python",
   "nbconvert_exporter": "python",
   "pygments_lexer": "ipython3",
   "version": "3.9.19"
  }
 },
 "nbformat": 4,
 "nbformat_minor": 5
}
