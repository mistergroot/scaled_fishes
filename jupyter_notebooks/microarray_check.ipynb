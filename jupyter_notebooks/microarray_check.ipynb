{
 "cells": [
  {
   "cell_type": "code",
   "execution_count": 3,
   "id": "3592361a",
   "metadata": {},
   "outputs": [
    {
     "name": "stdout",
     "output_type": "stream",
     "text": [
      "ERROR: This cross-compiler package contains no program /storage/group/ibb3/default/.conda/envs/ipyrad/bin/x86_64-conda_cos6-linux-gnu-cc\n",
      "ERROR: activate-gcc_linux-64.sh failed, see above for details\n"
     ]
    },
    {
     "name": "stderr",
     "output_type": "stream",
     "text": [
      "[bwa_index] Pack FASTA... 31.08 sec\n",
      "[bwa_index] Construct BWT for the packed sequence...\n",
      "[BWTIncCreate] textLength=4992403466, availableWord=363283876\n",
      "[BWTIncConstructFromPacked] 10 iterations done. 99999994 characters processed.\n",
      "[BWTIncConstructFromPacked] 20 iterations done. 199999994 characters processed.\n",
      "[BWTIncConstructFromPacked] 30 iterations done. 299999994 characters processed.\n",
      "[BWTIncConstructFromPacked] 40 iterations done. 399999994 characters processed.\n",
      "[BWTIncConstructFromPacked] 50 iterations done. 499999994 characters processed.\n",
      "[BWTIncConstructFromPacked] 60 iterations done. 599999994 characters processed.\n",
      "[BWTIncConstructFromPacked] 70 iterations done. 699999994 characters processed.\n",
      "[BWTIncConstructFromPacked] 80 iterations done. 799999994 characters processed.\n",
      "[BWTIncConstructFromPacked] 90 iterations done. 899999994 characters processed.\n",
      "[BWTIncConstructFromPacked] 100 iterations done. 999999994 characters processed.\n",
      "[BWTIncConstructFromPacked] 110 iterations done. 1099999994 characters processed.\n",
      "[BWTIncConstructFromPacked] 120 iterations done. 1199999994 characters processed.\n",
      "[BWTIncConstructFromPacked] 130 iterations done. 1299999994 characters processed.\n",
      "[BWTIncConstructFromPacked] 140 iterations done. 1399999994 characters processed.\n",
      "[BWTIncConstructFromPacked] 150 iterations done. 1499999994 characters processed.\n",
      "[BWTIncConstructFromPacked] 160 iterations done. 1599999994 characters processed.\n",
      "[BWTIncConstructFromPacked] 170 iterations done. 1699999994 characters processed.\n",
      "[BWTIncConstructFromPacked] 180 iterations done. 1799999994 characters processed.\n",
      "[BWTIncConstructFromPacked] 190 iterations done. 1899999994 characters processed.\n",
      "[BWTIncConstructFromPacked] 200 iterations done. 1999999994 characters processed.\n",
      "[BWTIncConstructFromPacked] 210 iterations done. 2099999994 characters processed.\n",
      "[BWTIncConstructFromPacked] 220 iterations done. 2199999994 characters processed.\n",
      "[BWTIncConstructFromPacked] 230 iterations done. 2299999994 characters processed.\n",
      "[BWTIncConstructFromPacked] 240 iterations done. 2399999994 characters processed.\n",
      "[BWTIncConstructFromPacked] 250 iterations done. 2499999994 characters processed.\n",
      "[BWTIncConstructFromPacked] 260 iterations done. 2599999994 characters processed.\n",
      "[BWTIncConstructFromPacked] 270 iterations done. 2699999994 characters processed.\n",
      "[BWTIncConstructFromPacked] 280 iterations done. 2799999994 characters processed.\n",
      "[BWTIncConstructFromPacked] 290 iterations done. 2899999994 characters processed.\n",
      "[BWTIncConstructFromPacked] 300 iterations done. 2999999994 characters processed.\n",
      "[BWTIncConstructFromPacked] 310 iterations done. 3099999994 characters processed.\n",
      "[BWTIncConstructFromPacked] 320 iterations done. 3199999994 characters processed.\n",
      "[BWTIncConstructFromPacked] 330 iterations done. 3299999994 characters processed.\n",
      "[BWTIncConstructFromPacked] 340 iterations done. 3399999994 characters processed.\n",
      "[BWTIncConstructFromPacked] 350 iterations done. 3499999994 characters processed.\n",
      "[BWTIncConstructFromPacked] 360 iterations done. 3599999994 characters processed.\n",
      "[BWTIncConstructFromPacked] 370 iterations done. 3699999994 characters processed.\n",
      "[BWTIncConstructFromPacked] 380 iterations done. 3799999994 characters processed.\n",
      "[BWTIncConstructFromPacked] 390 iterations done. 3899999994 characters processed.\n",
      "[BWTIncConstructFromPacked] 400 iterations done. 3999999994 characters processed.\n",
      "[BWTIncConstructFromPacked] 410 iterations done. 4099999994 characters processed.\n",
      "[BWTIncConstructFromPacked] 420 iterations done. 4199999994 characters processed.\n",
      "[BWTIncConstructFromPacked] 430 iterations done. 4299999994 characters processed.\n",
      "[BWTIncConstructFromPacked] 440 iterations done. 4396055466 characters processed.\n",
      "[BWTIncConstructFromPacked] 450 iterations done. 4481569498 characters processed.\n",
      "[BWTIncConstructFromPacked] 460 iterations done. 4557570586 characters processed.\n",
      "[BWTIncConstructFromPacked] 470 iterations done. 4625116538 characters processed.\n",
      "[BWTIncConstructFromPacked] 480 iterations done. 4685147562 characters processed.\n",
      "[BWTIncConstructFromPacked] 490 iterations done. 4738499258 characters processed.\n",
      "[BWTIncConstructFromPacked] 500 iterations done. 4785914362 characters processed.\n",
      "[BWTIncConstructFromPacked] 510 iterations done. 4828053002 characters processed.\n",
      "[BWTIncConstructFromPacked] 520 iterations done. 4865501914 characters processed.\n",
      "[BWTIncConstructFromPacked] 530 iterations done. 4898782554 characters processed.\n",
      "[BWTIncConstructFromPacked] 540 iterations done. 4928358442 characters processed.\n",
      "[BWTIncConstructFromPacked] 550 iterations done. 4954641546 characters processed.\n",
      "[BWTIncConstructFromPacked] 560 iterations done. 4977998010 characters processed.\n",
      "[bwt_gen] Finished constructing BWT in 567 iterations.\n",
      "[bwa_index] 2049.41 seconds elapse.\n",
      "[bwa_index] Update BWT... 15.63 sec\n",
      "[bwa_index] Pack forward-only FASTA... 24.54 sec\n",
      "[bwa_index] Construct SA from BWT and Occ... 526.04 sec\n",
      "[main] Version: 0.7.17-r1188\n",
      "[main] CMD: bwa index ../references/GCA_029448725.1_ASM2944872v1_genomic.fna.gz\n",
      "[main] Real time: 2670.668 sec; CPU: 2646.698 sec\n"
     ]
    }
   ],
   "source": [
    "%%bash\n",
    "source ~/.bashrc\n",
    "conda activate ipyrad\n",
    "bwa index ../references/GCA_029448725.1_ASM2944872v1_genomic.fna.gz"
   ]
  },
  {
   "cell_type": "code",
   "execution_count": 4,
   "id": "630c052e",
   "metadata": {},
   "outputs": [],
   "source": [
    "%%bash\n",
    "cat ../Axiom_Salmon.annot.r1.csv \\\n",
    "    | sed \"s/\\[\\([^]]*\\)\\]/N/g\" > ../Axiom_Salmon_replaceN.csv"
   ]
  }
 ],
 "metadata": {
  "kernelspec": {
   "display_name": "NetworkX",
   "language": "python",
   "name": "networkx"
  },
  "language_info": {
   "codemirror_mode": {
    "name": "ipython",
    "version": 3
   },
   "file_extension": ".py",
   "mimetype": "text/x-python",
   "name": "python",
   "nbconvert_exporter": "python",
   "pygments_lexer": "ipython3",
   "version": "3.11.0"
  }
 },
 "nbformat": 4,
 "nbformat_minor": 5
}
