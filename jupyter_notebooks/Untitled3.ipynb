{
 "cells": [
  {
   "cell_type": "code",
   "execution_count": null,
   "id": "2039ba52",
   "metadata": {},
   "outputs": [
    {
     "name": "stderr",
     "output_type": "stream",
     "text": [
      "/storage/group/ibb3/default/.conda/envs/masters/lib/python3.10/site-packages/Bio/Seq.py:2096: BiopythonDeprecationWarning: myseq.ungap(gap) is deprecated; please use myseq.replace(gap, \"\") instead.\n",
      "  warnings.warn(\n"
     ]
    }
   ],
   "source": [
    "import pandas as pd\n",
    "import numpy as np\n",
    "import re\n",
    "from Bio import SeqIO\n",
    "from itertools import combinations\n",
    "\n",
    "metadata = pd.read_csv(\"../wilmurt_meta.csv\")\n",
    "\n",
    "strains = ['Assinica (Hatchery)', 'Domestic (Hatchery)',\n",
    "       'Horn (Hatchery)', 'Little Tupper (Hatchery)', \n",
    "           'Temiscamie (Hatchery)', 'Windfall (Hatchery)']\n",
    "for comb in combinations(strains, 4):\n",
    "    combo = comb[0][0]+comb[1][0]+comb[2][0]+comb[3][0]\n",
    "    hatchery = (metadata[\"Novogene_ID\"][metadata[\"Source\"].isin(list(comb))]\n",
    "            [metadata[\"Source\"].str.contains(\"Hatchery\")]\n",
    "            [~metadata[\"Novogene_ID\"].str.contains(\"TxD\")]).tolist()\n",
    "    for seq_record in SeqIO.parse(\"../ingroup_and_outgroup_circularized.msa\", \"fasta\"):\n",
    "        if str(seq_record.id) in hatchery:\n",
    "            for i in list(range(len(seq_record.seq) - 450))[0::5]:\n",
    "                with open(\"../gene_windows/\" + str(i) + \"_\" + combo + \".fasta\",\"a\") as f:\n",
    "                   f.write(\">\" + str(seq_record.id) + \"\\n\")\n",
    "                   f.write(str(seq_record.seq[i:i+450].ungap(\"-\")) + \"\\n\")"
   ]
  },
  {
   "cell_type": "code",
   "execution_count": null,
   "id": "e05dfa3a",
   "metadata": {},
   "outputs": [],
   "source": [
    "%%bash\n",
    "source ~/.bashrc\n",
    "conda activate ipyrad\n",
    "for i in $( ls ../gene_windows/*_????.fasta | sed \"s/.fasta//g\" | cut -d\"/\" -f3 ); do\n",
    "    vsearch --derep_fulllength ../gene_windows/${i}.fasta \\\n",
    "        --output ../gene_windows/${i}.derep.fasta \\\n",
    "        --sizeout --threads 8 \\\n",
    "        --uc ../gene_windows/${i}.derep.uc \\\n",
    "        --fasta_width 0\n",
    "done"
   ]
  }
 ],
 "metadata": {
  "kernelspec": {
   "display_name": "Masters Env",
   "language": "python",
   "name": "masters"
  },
  "language_info": {
   "codemirror_mode": {
    "name": "ipython",
    "version": 3
   },
   "file_extension": ".py",
   "mimetype": "text/x-python",
   "name": "python",
   "nbconvert_exporter": "python",
   "pygments_lexer": "ipython3",
   "version": "3.10.8"
  }
 },
 "nbformat": 4,
 "nbformat_minor": 5
}
