{
 "cells": [
  {
   "cell_type": "code",
   "execution_count": 1,
   "id": "bce24381",
   "metadata": {},
   "outputs": [
    {
     "name": "stderr",
     "output_type": "stream",
     "text": [
      "\n",
      "Attaching package: ‘dplyr’\n",
      "\n",
      "\n",
      "The following objects are masked from ‘package:stats’:\n",
      "\n",
      "    filter, lag\n",
      "\n",
      "\n",
      "The following objects are masked from ‘package:base’:\n",
      "\n",
      "    intersect, setdiff, setequal, union\n",
      "\n",
      "\n"
     ]
    }
   ],
   "source": [
    "library(rfishbase)\n",
    "library(dplyr)"
   ]
  },
  {
   "cell_type": "code",
   "execution_count": 2,
   "id": "aa256093",
   "metadata": {},
   "outputs": [],
   "source": [
    "fishlist = read.table(\"../fishlist.txt\", header = T, sep = \"\\t\")"
   ]
  },
  {
   "cell_type": "code",
   "execution_count": 2,
   "id": "5b81c5aa",
   "metadata": {},
   "outputs": [],
   "source": [
    "fishlist = read.table(\"../fishspp_for_heatmatrix.txt\", header = F, sep = \"\\t\")"
   ]
  },
  {
   "cell_type": "code",
   "execution_count": 5,
   "id": "2d7a5e80",
   "metadata": {
    "scrolled": true
   },
   "outputs": [
    {
     "name": "stderr",
     "output_type": "stream",
     "text": [
      "\u001b[1m\u001b[22mJoining with `by = join_by(SpecCode)`\n",
      "\u001b[1m\u001b[22mJoining with `by = join_by(SpecCode)`\n",
      "\u001b[1m\u001b[22mJoining with `by = join_by(SpecCode)`\n",
      "\u001b[1m\u001b[22mJoining with `by = join_by(SpecCode)`\n",
      "\u001b[1m\u001b[22mJoining with `by = join_by(SpecCode)`\n",
      "\u001b[1m\u001b[22mJoining with `by = join_by(SpecCode)`\n",
      "\u001b[1m\u001b[22mJoining with `by = join_by(SpecCode)`\n",
      "\u001b[1m\u001b[22mJoining with `by = join_by(SpecCode)`\n",
      "\u001b[1m\u001b[22mJoining with `by = join_by(SpecCode)`\n",
      "\u001b[1m\u001b[22mJoining with `by = join_by(SpecCode)`\n",
      "\u001b[1m\u001b[22mJoining with `by = join_by(SpecCode)`\n",
      "\u001b[1m\u001b[22mJoining with `by = join_by(SpecCode)`\n",
      "\u001b[1m\u001b[22mJoining with `by = join_by(SpecCode)`\n",
      "\u001b[1m\u001b[22mJoining with `by = join_by(SpecCode)`\n",
      "\u001b[1m\u001b[22mJoining with `by = join_by(SpecCode)`\n",
      "\u001b[1m\u001b[22mJoining with `by = join_by(SpecCode)`\n",
      "\u001b[1m\u001b[22mJoining with `by = join_by(SpecCode)`\n",
      "\u001b[1m\u001b[22mJoining with `by = join_by(SpecCode)`\n",
      "\u001b[1m\u001b[22mJoining with `by = join_by(SpecCode)`\n",
      "\u001b[1m\u001b[22mJoining with `by = join_by(SpecCode)`\n",
      "\u001b[1m\u001b[22mJoining with `by = join_by(SpecCode)`\n",
      "\u001b[1m\u001b[22mJoining with `by = join_by(SpecCode)`\n",
      "\u001b[1m\u001b[22mJoining with `by = join_by(SpecCode)`\n",
      "\u001b[1m\u001b[22mJoining with `by = join_by(SpecCode)`\n",
      "\u001b[1m\u001b[22mJoining with `by = join_by(SpecCode)`\n",
      "\u001b[1m\u001b[22mJoining with `by = join_by(SpecCode)`\n",
      "\u001b[1m\u001b[22mJoining with `by = join_by(SpecCode)`\n",
      "\u001b[1m\u001b[22mJoining with `by = join_by(SpecCode)`\n",
      "\u001b[1m\u001b[22mJoining with `by = join_by(SpecCode)`\n",
      "\u001b[1m\u001b[22mJoining with `by = join_by(SpecCode)`\n",
      "\u001b[1m\u001b[22mJoining with `by = join_by(SpecCode)`\n"
     ]
    }
   ],
   "source": [
    "trophicpositions = data.frame(Taxon = c(), TrophicPosition = c())\n",
    "for (sp in fishlist$V1) {\n",
    "    if (grepl(\" \", sp, fixed = TRUE) == TRUE) {\n",
    "        tmp = estimate(sp, fields = c(\"Troph\"))\n",
    "        tmp = median(tmp$Troph)\n",
    "    } else if (grepl(\"dae\", sp, fixed = TRUE) == TRUE) {\n",
    "        famcode = fb_tbl(\"families\") %>% filter(Family %in% c(sp)) %>% select(FamCode)\n",
    "        famcode = famcode$FamCode\n",
    "        tmp = fb_tbl(\"species\") %>% filter(FamCode %in% c(famcode)) %>%\n",
    "          mutate(gensp = paste(Genus, Species))\n",
    "        tmp = estimate(tmp$gensp, fields = c(\"Troph\"))\n",
    "        tmp = median(tmp$Troph)\n",
    "    } else {\n",
    "        tmp = fb_tbl(\"species\") %>% filter(Genus %in% c(sp)) %>%\n",
    "          mutate(gensp = paste(Genus, Species))\n",
    "        tmp = estimate(tmp$gensp, fields = c(\"Troph\"))\n",
    "        tmp = median(tmp$Troph)\n",
    "    }\n",
    "    tmp = data.frame(\n",
    "        Taxon = c(sp),\n",
    "        TrophicPosition = c(tmp))\n",
    "    trophicpositions = rbind(trophicpositions, tmp)\n",
    "}"
   ]
  },
  {
   "cell_type": "code",
   "execution_count": 7,
   "id": "2f8c0ec1",
   "metadata": {},
   "outputs": [],
   "source": [
    "write.csv(trophicpositions, \"../fish_trophic_positions_heatmap.csv\", row.names = FALSE)"
   ]
  }
 ],
 "metadata": {
  "kernelspec": {
   "display_name": "R",
   "language": "R",
   "name": "ir"
  },
  "language_info": {
   "codemirror_mode": "r",
   "file_extension": ".r",
   "mimetype": "text/x-r-source",
   "name": "R",
   "pygments_lexer": "r",
   "version": "4.3.3"
  }
 },
 "nbformat": 4,
 "nbformat_minor": 5
}
