{
 "cells": [
  {
   "cell_type": "code",
   "execution_count": 1,
   "id": "9796f016",
   "metadata": {},
   "outputs": [],
   "source": [
    "import subprocess\n",
    "import pandas as pd\n",
    "import numpy as np\n",
    "import glob\n",
    "import seaborn as sns\n",
    "import matplotlib.pyplot as plt\n",
    "#import colorcet as cc\n",
    "from numpy import linalg as LA\n",
    "#import umap"
   ]
  },
  {
   "cell_type": "code",
   "execution_count": 2,
   "id": "b6b43f2d",
   "metadata": {},
   "outputs": [],
   "source": [
    "tmp = pd.read_csv(\"../SraRunInfo.csv\")"
   ]
  },
  {
   "cell_type": "code",
   "execution_count": 21,
   "id": "a6cb76d9",
   "metadata": {
    "scrolled": true
   },
   "outputs": [
    {
     "name": "stdout",
     "output_type": "stream",
     "text": [
      "Submitted batch job 7010470\n",
      "Submitted batch job 7010471\n",
      "Submitted batch job 7010472\n",
      "Submitted batch job 7010473\n",
      "Submitted batch job 7010474\n",
      "Submitted batch job 7010475\n",
      "Submitted batch job 7010476\n",
      "Submitted batch job 7010477\n",
      "Submitted batch job 7010478\n",
      "Submitted batch job 7010479\n",
      "Submitted batch job 7010480\n",
      "Submitted batch job 7010481\n",
      "Submitted batch job 7010482\n",
      "Submitted batch job 7010483\n",
      "Submitted batch job 7010484\n",
      "Submitted batch job 7010485\n",
      "Submitted batch job 7010486\n",
      "Submitted batch job 7010487\n",
      "Submitted batch job 7010488\n",
      "Submitted batch job 7010489\n",
      "Submitted batch job 7010490\n",
      "Submitted batch job 7010491\n",
      "Submitted batch job 7010492\n",
      "Submitted batch job 7010493\n",
      "Submitted batch job 7010494\n",
      "Submitted batch job 7010495\n",
      "Submitted batch job 7010496\n",
      "Submitted batch job 7010497\n",
      "Submitted batch job 7010498\n",
      "Submitted batch job 7010499\n",
      "Submitted batch job 7010500\n",
      "Submitted batch job 7010501\n",
      "Submitted batch job 7010502\n",
      "Submitted batch job 7010503\n",
      "Submitted batch job 7010504\n",
      "Submitted batch job 7010505\n",
      "Submitted batch job 7010506\n",
      "Submitted batch job 7010507\n",
      "Submitted batch job 7010508\n",
      "Submitted batch job 7010509\n",
      "Submitted batch job 7010510\n",
      "Submitted batch job 7010511\n",
      "Submitted batch job 7010512\n",
      "Submitted batch job 7010513\n",
      "Submitted batch job 7010514\n",
      "Submitted batch job 7010515\n",
      "Submitted batch job 7010516\n",
      "Submitted batch job 7010517\n",
      "Submitted batch job 7010518\n",
      "Submitted batch job 7010519\n",
      "Submitted batch job 7010520\n",
      "Submitted batch job 7010521\n",
      "Submitted batch job 7010522\n",
      "Submitted batch job 7010523\n",
      "Submitted batch job 7010524\n",
      "Submitted batch job 7010525\n",
      "Submitted batch job 7010526\n",
      "Submitted batch job 7010527\n",
      "Submitted batch job 7010528\n",
      "Submitted batch job 7010529\n",
      "Submitted batch job 7010530\n",
      "Submitted batch job 7010531\n",
      "Submitted batch job 7010532\n",
      "Submitted batch job 7010533\n"
     ]
    }
   ],
   "source": [
    "for sample in tmp[\"Run\"].tolist():\n",
    "    task = \"sra_dump\"\n",
    "    mem = \"36\"\n",
    "    cpus = \"6\"\n",
    "    prefix = sample\n",
    "    outpath = \"../../../brook_trout/sra\"\n",
    "    subprocess.run([\"sbatch --mem=\" + mem + \"g --ntasks=\" + \n",
    "         cpus + \" ../\" + task + \".sh \" + \n",
    "         prefix + \" \" + outpath ], shell=True)"
   ]
  },
  {
   "cell_type": "code",
   "execution_count": 30,
   "id": "27d8ead3",
   "metadata": {},
   "outputs": [],
   "source": [
    "files = glob.glob(\"../../../brook_trout/sra/*_2.fastq\")"
   ]
  },
  {
   "cell_type": "code",
   "execution_count": 33,
   "id": "6c19a855",
   "metadata": {
    "scrolled": true
   },
   "outputs": [
    {
     "name": "stdout",
     "output_type": "stream",
     "text": [
      "Submitted batch job 7011095\n",
      "Submitted batch job 7011096\n",
      "Submitted batch job 7011097\n",
      "Submitted batch job 7011098\n",
      "Submitted batch job 7011099\n",
      "Submitted batch job 7011100\n",
      "Submitted batch job 7011101\n",
      "Submitted batch job 7011102\n",
      "Submitted batch job 7011103\n",
      "Submitted batch job 7011104\n",
      "Submitted batch job 7011105\n",
      "Submitted batch job 7011106\n",
      "Submitted batch job 7011107\n",
      "Submitted batch job 7011108\n",
      "Submitted batch job 7011109\n",
      "Submitted batch job 7011110\n",
      "Submitted batch job 7011111\n",
      "Submitted batch job 7011112\n",
      "Submitted batch job 7011113\n",
      "Submitted batch job 7011114\n",
      "Submitted batch job 7011115\n",
      "Submitted batch job 7011116\n",
      "Submitted batch job 7011117\n",
      "Submitted batch job 7011118\n",
      "Submitted batch job 7011119\n",
      "Submitted batch job 7011120\n",
      "Submitted batch job 7011121\n",
      "Submitted batch job 7011122\n",
      "Submitted batch job 7011123\n",
      "Submitted batch job 7011124\n",
      "Submitted batch job 7011125\n",
      "Submitted batch job 7011126\n",
      "Submitted batch job 7011127\n",
      "Submitted batch job 7011128\n",
      "Submitted batch job 7011129\n",
      "Submitted batch job 7011130\n",
      "Submitted batch job 7011131\n",
      "Submitted batch job 7011132\n",
      "Submitted batch job 7011133\n",
      "Submitted batch job 7011134\n",
      "Submitted batch job 7011135\n",
      "Submitted batch job 7011136\n",
      "Submitted batch job 7011137\n",
      "Submitted batch job 7011138\n",
      "Submitted batch job 7011139\n",
      "Submitted batch job 7011140\n",
      "Submitted batch job 7011141\n",
      "Submitted batch job 7011142\n",
      "Submitted batch job 7011143\n",
      "Submitted batch job 7011144\n",
      "Submitted batch job 7011145\n",
      "Submitted batch job 7011146\n",
      "Submitted batch job 7011147\n",
      "Submitted batch job 7011148\n",
      "Submitted batch job 7011149\n",
      "Submitted batch job 7011150\n",
      "Submitted batch job 7011151\n",
      "Submitted batch job 7011152\n",
      "Submitted batch job 7011153\n",
      "Submitted batch job 7011154\n",
      "Submitted batch job 7011155\n",
      "Submitted batch job 7011156\n",
      "Submitted batch job 7011157\n",
      "Submitted batch job 7011158\n"
     ]
    }
   ],
   "source": [
    "for file in files:\n",
    "    task = \"trimgalore\"\n",
    "    mem = \"128\"\n",
    "    cpus = \"8\"\n",
    "    inprefix = file.rsplit(\"_\", 1)[0]\n",
    "    r1 = inprefix + \"_1.fastq\"\n",
    "    r2 = inprefix + \"_2.fastq\"\n",
    "    outpath = \"../../../brook_trout/sra_trimmed/\"\n",
    "    outprefix = file.split(\"/\", 9)[-1].rsplit(\"_\", 4)[0]\n",
    "    subprocess.run([\"sbatch --mem=\" + mem + \"g --ntasks=\" + \n",
    "         cpus + \" ../\" + task + \".sh \" + \n",
    "         r1 + \" \" + r2 + \" \" + \n",
    "         outpath + \" \" + outprefix], shell=True)"
   ]
  },
  {
   "cell_type": "code",
   "execution_count": 3,
   "id": "9eb51f9e-a4bf-4ceb-9caa-351d15d121af",
   "metadata": {},
   "outputs": [],
   "source": [
    "!ls ../../../brook_trout/sra_trimmed/*_val_2.fq.gz | sed \"s:../../../brook_trout/sra_trimmed/::g\" | sed \"s:_val_2.fq.gz::g\" > ../prefixlist.txt"
   ]
  },
  {
   "cell_type": "code",
   "execution_count": 5,
   "id": "38a2a73e-8939-4f53-b83c-6233a0a416fd",
   "metadata": {},
   "outputs": [
    {
     "name": "stdout",
     "output_type": "stream",
     "text": [
      "Submitted batch job 7025724\n"
     ]
    },
    {
     "data": {
      "text/plain": [
       "CompletedProcess(args=['sbatch --mem=700g --ntasks=120 ../bwa_sambamba_paired.sh ../prefixlist.txt ../../../brook_trout/sra_trimmed ../../../brook_trout/sra_mapped ../references/sfon_with_mito.fa _val_1.fq.gz _val_2.fq.gz'], returncode=0)"
      ]
     },
     "execution_count": 5,
     "metadata": {},
     "output_type": "execute_result"
    }
   ],
   "source": [
    "task = \"bwa_sambamba_paired\"\n",
    "mem = \"700\"\n",
    "cpus = \"120\"\n",
    "prefixlist = \"../prefixlist.txt\"\n",
    "indir = \"../../../brook_trout/sra_trimmed\"\n",
    "outpath = \"../../../brook_trout/sra_mapped\"\n",
    "ref = \"../references/sfon_with_mito.fa\"\n",
    "r1suffix = \"_val_1.fq.gz\"\n",
    "r2suffix = \"_val_2.fq.gz\"\n",
    "subprocess.run([\"sbatch --mem=\" + mem + \"g --ntasks=\" + \n",
    "     cpus + \" ../\" + task + \".sh \" + \n",
    "     prefixlist + \" \" + indir + \" \" + outpath + \" \" + ref + \" \" + r1suffix + \" \" + r2suffix ], shell=True)"
   ]
  }
 ],
 "metadata": {
  "kernelspec": {
   "display_name": "orbicella",
   "language": "python",
   "name": "orbicella"
  },
  "language_info": {
   "codemirror_mode": {
    "name": "ipython",
    "version": 3
   },
   "file_extension": ".py",
   "mimetype": "text/x-python",
   "name": "python",
   "nbconvert_exporter": "python",
   "pygments_lexer": "ipython3",
   "version": "3.9.19"
  }
 },
 "nbformat": 4,
 "nbformat_minor": 5
}
