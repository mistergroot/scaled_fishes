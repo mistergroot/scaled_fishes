{
 "cells": [
  {
   "cell_type": "code",
   "execution_count": null,
   "id": "c74dbd60-3d46-460e-bf62-6bc78a3f3b99",
   "metadata": {},
   "outputs": [],
   "source": []
  }
 ],
 "metadata": {
  "kernelspec": {
   "display_name": "orbicella",
   "language": "python",
   "name": "orbicella"
  },
  "language_info": {
   "codemirror_mode": {
    "name": "ipython",
    "version": 3
   },
   "file_extension": ".py",
   "mimetype": "text/x-python",
   "name": "python",
   "nbconvert_exporter": "python",
   "pygments_lexer": "ipython3",
   "version": "3.9.19"
  }
 },
 "nbformat": 4,
 "nbformat_minor": 5
}
