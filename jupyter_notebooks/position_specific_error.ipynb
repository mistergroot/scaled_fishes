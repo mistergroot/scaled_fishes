{
 "cells": [
  {
   "cell_type": "code",
   "execution_count": 14,
   "id": "a6df7cff",
   "metadata": {
    "scrolled": true
   },
   "outputs": [],
   "source": [
    "%%bash\n",
    "source ~/.bashrc\n",
    "conda activate assembly\n",
    "zcat /storage/home/nsl5160/scratch/reads/filterbytile/trimmed/100_R1.fq.gz \\\n",
    "    | seqkit subseq -r 1:9 | gzip > ~/scratch/testss1e9_R1.fq.gz"
   ]
  },
  {
   "cell_type": "code",
   "execution_count": 15,
   "id": "90742da3",
   "metadata": {},
   "outputs": [],
   "source": [
    "%%bash\n",
    "source ~/.bashrc\n",
    "conda activate assembly\n",
    "zcat /storage/home/nsl5160/scratch/reads/filterbytile/trimmed/100_R1.fq.gz \\\n",
    "    | seqkit subseq -r 20:35 | gzip > ~/scratch/testss20e35_R1.fq.gz"
   ]
  },
  {
   "cell_type": "code",
   "execution_count": 16,
   "id": "b8e8b76d",
   "metadata": {},
   "outputs": [],
   "source": [
    "%%bash\n",
    "source ~/.bashrc\n",
    "conda activate assembly\n",
    "zcat /storage/home/nsl5160/scratch/reads/filterbytile/trimmed/100_R1.fq.gz \\\n",
    "    | seqkit subseq -r 40:60 | gzip > ~/scratch/testss40e60_R1.fq.gz"
   ]
  },
  {
   "cell_type": "code",
   "execution_count": null,
   "id": "19852f13",
   "metadata": {},
   "outputs": [],
   "source": []
  }
 ],
 "metadata": {
  "kernelspec": {
   "display_name": "Masters Env",
   "language": "python",
   "name": "masters"
  },
  "language_info": {
   "codemirror_mode": {
    "name": "ipython",
    "version": 3
   },
   "file_extension": ".py",
   "mimetype": "text/x-python",
   "name": "python",
   "nbconvert_exporter": "python",
   "pygments_lexer": "ipython3",
   "version": "3.10.8"
  }
 },
 "nbformat": 4,
 "nbformat_minor": 5
}
