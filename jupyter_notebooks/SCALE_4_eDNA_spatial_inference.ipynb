{
 "cells": [
  {
   "cell_type": "code",
   "execution_count": 1,
   "id": "7ac08f12",
   "metadata": {},
   "outputs": [],
   "source": [
    "import pandas as pd\n",
    "import numpy as np\n",
    "import seaborn as sns\n",
    "import matplotlib.pyplot as plt"
   ]
  },
  {
   "cell_type": "code",
   "execution_count": 2,
   "id": "39ee38d7",
   "metadata": {},
   "outputs": [],
   "source": [
    "metadata = pd.read_csv(\"../master_metadata.csv\")"
   ]
  },
  {
   "cell_type": "code",
   "execution_count": 3,
   "id": "1ef8cd7c",
   "metadata": {},
   "outputs": [],
   "source": [
    "metadata.loc[metadata[\"Season\"].str.contains(\"Summer\"), \"Season\"] = \"Summer\""
   ]
  },
  {
   "cell_type": "code",
   "execution_count": 4,
   "id": "38887cf8",
   "metadata": {},
   "outputs": [],
   "source": [
    "metadata[\"Notes\"] = metadata[\"Notes\"].fillna(\"NA\")\n",
    "metadata[\"Site\"] = metadata[\"Site\"].fillna(\"NA\")"
   ]
  },
  {
   "cell_type": "code",
   "execution_count": 5,
   "id": "03b18cf6",
   "metadata": {},
   "outputs": [],
   "source": [
    "metadata = metadata[~metadata[\"Notes\"].str.contains(\"Missing eDNA\")]"
   ]
  },
  {
   "cell_type": "code",
   "execution_count": 6,
   "id": "dd0a6ea1",
   "metadata": {},
   "outputs": [],
   "source": [
    "metadata = metadata[~metadata[\"Site\"].str.contains(\"Blank\")].reset_index(drop=True)"
   ]
  },
  {
   "cell_type": "code",
   "execution_count": 19,
   "id": "265132c2",
   "metadata": {},
   "outputs": [],
   "source": [
    "asv = pd.read_csv(\"../dada2_asv_table_with_taxonomy.csv\")\n",
    "asv[\"Overall_Best\"] = asv[\"Best_Hit_Refseq\"]\n",
    "asv[\"Overall_Best_Percent_ID\"] = asv[\"Percent_ID_Refseq\"]\n",
    "asv[\"Overall_Best_Taxonomic_Level\"] = asv['Best_Hit_Taxonomic_level_Refseq']\n",
    "asv.loc[asv[\"Percent_ID_Refseq\"] < 98, \"Overall_Best\"] = asv[\"Best_Hit\"]\n",
    "asv.loc[asv[\"Percent_ID_Refseq\"] < 98, \"Overall_Best_Percent_ID\"] = asv[\"Percent_ID\"]\n",
    "asv.loc[asv[\"Percent_ID_Refseq\"] < 98, \"Overall_Best_Taxonomic_Level\"] = asv['Best_Hit_Taxonomic_level']\n",
    "asv = asv[asv[\"Class\"] == \"Actinopteri\"].reset_index(drop=True)\n",
    "asv = asv[asv[\"CountsAcross\"] > 10].reset_index(drop=True)\n",
    "asv = asv[asv[\"Overall_Best\"].notna()].reset_index(drop=True)\n",
    "asv = asv[asv[\"Overall_Best_Taxonomic_Level\"] == \"Species\"]"
   ]
  },
  {
   "cell_type": "code",
   "execution_count": 26,
   "id": "bfe7f514",
   "metadata": {},
   "outputs": [
    {
     "name": "stderr",
     "output_type": "stream",
     "text": [
      "/tmp/ipykernel_3914923/1469803059.py:1: UserWarning: Boolean Series key will be reindexed to match DataFrame index.\n",
      "  lakes = metadata[[\"Name\", \"Season\"]][metadata[\"ALSC\"] == 0][metadata[\"Name\"].notna()].drop_duplicates()\n"
     ]
    }
   ],
   "source": [
    "lakes = metadata[[\"Name\", \"Season\"]][metadata[\"ALSC\"] == 0][metadata[\"Name\"].notna()].drop_duplicates()"
   ]
  },
  {
   "cell_type": "code",
   "execution_count": 11,
   "id": "d034c516",
   "metadata": {
    "scrolled": true
   },
   "outputs": [],
   "source": [
    "metadata = metadata[metadata[\"EGCF-ID\"].notna()].reset_index(drop=True)"
   ]
  },
  {
   "cell_type": "code",
   "execution_count": 28,
   "id": "abd2d6e5",
   "metadata": {},
   "outputs": [
    {
     "data": {
      "text/html": [
       "<div>\n",
       "<style scoped>\n",
       "    .dataframe tbody tr th:only-of-type {\n",
       "        vertical-align: middle;\n",
       "    }\n",
       "\n",
       "    .dataframe tbody tr th {\n",
       "        vertical-align: top;\n",
       "    }\n",
       "\n",
       "    .dataframe thead th {\n",
       "        text-align: right;\n",
       "    }\n",
       "</style>\n",
       "<table border=\"1\" class=\"dataframe\">\n",
       "  <thead>\n",
       "    <tr style=\"text-align: right;\">\n",
       "      <th></th>\n",
       "      <th>Overall_Best</th>\n",
       "      <th>nonzero</th>\n",
       "    </tr>\n",
       "  </thead>\n",
       "  <tbody>\n",
       "  </tbody>\n",
       "</table>\n",
       "</div>"
      ],
      "text/plain": [
       "Empty DataFrame\n",
       "Columns: [Overall_Best, nonzero]\n",
       "Index: []"
      ]
     },
     "execution_count": 28,
     "metadata": {},
     "output_type": "execute_result"
    }
   ],
   "source": [
    "springspecies"
   ]
  },
  {
   "cell_type": "code",
   "execution_count": 40,
   "id": "d8d33d20",
   "metadata": {},
   "outputs": [
    {
     "name": "stderr",
     "output_type": "stream",
     "text": [
      "/tmp/ipykernel_3914923/1566370548.py:6: SettingWithCopyWarning: \n",
      "A value is trying to be set on a copy of a slice from a DataFrame.\n",
      "Try using .loc[row_indexer,col_indexer] = value instead\n",
      "\n",
      "See the caveats in the documentation: https://pandas.pydata.org/pandas-docs/stable/user_guide/indexing.html#returning-a-view-versus-a-copy\n",
      "  springspecies[\"nonzero\"] = springspecies[springids].astype(bool).sum(axis=1)\n",
      "/tmp/ipykernel_3914923/1566370548.py:7: SettingWithCopyWarning: \n",
      "A value is trying to be set on a copy of a slice from a DataFrame.\n",
      "Try using .loc[row_indexer,col_indexer] = value instead\n",
      "\n",
      "See the caveats in the documentation: https://pandas.pydata.org/pandas-docs/stable/user_guide/indexing.html#returning-a-view-versus-a-copy\n",
      "  fallspecies[\"nonzero\"] = fallspecies[fallids].astype(bool).sum(axis=1)\n"
     ]
    }
   ],
   "source": [
    "for lake in [\"Dart Lake\"]:\n",
    "    springids = metadata[\"EGCF-ID\"][metadata[\"Name\"] == lake][metadata[\"Season\"] == \"Spring\"].tolist()\n",
    "    fallids = metadata[\"EGCF-ID\"][metadata[\"Name\"] == lake][metadata[\"Season\"] == \"Early Fall\"].tolist()\n",
    "    springspecies = asv[springids + [\"Overall_Best\"]]\n",
    "    fallspecies = asv[fallids + [\"Overall_Best\"]]\n",
    "    springspecies[\"nonzero\"] = springspecies[springids].astype(bool).sum(axis=1)\n",
    "    fallspecies[\"nonzero\"] = fallspecies[fallids].astype(bool).sum(axis=1)"
   ]
  },
  {
   "cell_type": "code",
   "execution_count": 42,
   "id": "5cece8ec",
   "metadata": {},
   "outputs": [
    {
     "name": "stdout",
     "output_type": "stream",
     "text": [
      "Dart Lake ['Ameiurus nebulosus spring', 'Chrosomus eos spring']\n",
      "Sagamore ['Micropterus salmoides fall', 'Chrosomus neogaeus fall', 'Salmo salar fall', 'Coregonus clupeaformis fall', 'Lepomis macrochirus fall']\n",
      "Moss Lake ['Rhinichthys atratulus spring', 'Semotilus atromaculatus fall', 'Sander vitreus fall']\n",
      "Little Clear ['Perca flavescens spring', 'Micropterus salmoides spring', 'Mylopharyngodon piceus spring', 'Catostomus commersonii spring', 'Lepomis gibbosus fall']\n",
      "Heart ['Lepomis gibbosus spring', 'Salvelinus fontinalis spring', 'Micropterus salmoides fall']\n",
      "Rondaxe ['Umbra limi spring', 'Chrosomus neogaeus spring', 'Chrosomus eos spring', 'Pimephales notatus spring']\n",
      "East Copperas ['Lepomis macrochirus spring', 'Fundulus diaphanus spring', 'Siniperca knerii x Siniperca chuatsi spring', 'Perca flavescens fall', 'Chrosomus neogaeus fall', 'Ameiurus melas fall', 'Lateolabrax maculatus fall']\n",
      "Upper Cascade ['Hypophthalmichthys nobilis spring', 'Salmo trutta spring', 'Salvelinus confluentus spring', 'Chrosomus eos fall']\n"
     ]
    },
    {
     "name": "stderr",
     "output_type": "stream",
     "text": [
      "/tmp/ipykernel_3914923/4288318997.py:6: SettingWithCopyWarning: \n",
      "A value is trying to be set on a copy of a slice from a DataFrame.\n",
      "Try using .loc[row_indexer,col_indexer] = value instead\n",
      "\n",
      "See the caveats in the documentation: https://pandas.pydata.org/pandas-docs/stable/user_guide/indexing.html#returning-a-view-versus-a-copy\n",
      "  springspecies[\"nonzero\"] = springspecies[springids].astype(bool).sum(axis=1)\n",
      "/tmp/ipykernel_3914923/4288318997.py:7: SettingWithCopyWarning: \n",
      "A value is trying to be set on a copy of a slice from a DataFrame.\n",
      "Try using .loc[row_indexer,col_indexer] = value instead\n",
      "\n",
      "See the caveats in the documentation: https://pandas.pydata.org/pandas-docs/stable/user_guide/indexing.html#returning-a-view-versus-a-copy\n",
      "  fallspecies[\"nonzero\"] = fallspecies[fallids].astype(bool).sum(axis=1)\n",
      "/tmp/ipykernel_3914923/4288318997.py:6: SettingWithCopyWarning: \n",
      "A value is trying to be set on a copy of a slice from a DataFrame.\n",
      "Try using .loc[row_indexer,col_indexer] = value instead\n",
      "\n",
      "See the caveats in the documentation: https://pandas.pydata.org/pandas-docs/stable/user_guide/indexing.html#returning-a-view-versus-a-copy\n",
      "  springspecies[\"nonzero\"] = springspecies[springids].astype(bool).sum(axis=1)\n",
      "/tmp/ipykernel_3914923/4288318997.py:7: SettingWithCopyWarning: \n",
      "A value is trying to be set on a copy of a slice from a DataFrame.\n",
      "Try using .loc[row_indexer,col_indexer] = value instead\n",
      "\n",
      "See the caveats in the documentation: https://pandas.pydata.org/pandas-docs/stable/user_guide/indexing.html#returning-a-view-versus-a-copy\n",
      "  fallspecies[\"nonzero\"] = fallspecies[fallids].astype(bool).sum(axis=1)\n",
      "/tmp/ipykernel_3914923/4288318997.py:6: SettingWithCopyWarning: \n",
      "A value is trying to be set on a copy of a slice from a DataFrame.\n",
      "Try using .loc[row_indexer,col_indexer] = value instead\n",
      "\n",
      "See the caveats in the documentation: https://pandas.pydata.org/pandas-docs/stable/user_guide/indexing.html#returning-a-view-versus-a-copy\n",
      "  springspecies[\"nonzero\"] = springspecies[springids].astype(bool).sum(axis=1)\n",
      "/tmp/ipykernel_3914923/4288318997.py:7: SettingWithCopyWarning: \n",
      "A value is trying to be set on a copy of a slice from a DataFrame.\n",
      "Try using .loc[row_indexer,col_indexer] = value instead\n",
      "\n",
      "See the caveats in the documentation: https://pandas.pydata.org/pandas-docs/stable/user_guide/indexing.html#returning-a-view-versus-a-copy\n",
      "  fallspecies[\"nonzero\"] = fallspecies[fallids].astype(bool).sum(axis=1)\n",
      "/tmp/ipykernel_3914923/4288318997.py:6: SettingWithCopyWarning: \n",
      "A value is trying to be set on a copy of a slice from a DataFrame.\n",
      "Try using .loc[row_indexer,col_indexer] = value instead\n",
      "\n",
      "See the caveats in the documentation: https://pandas.pydata.org/pandas-docs/stable/user_guide/indexing.html#returning-a-view-versus-a-copy\n",
      "  springspecies[\"nonzero\"] = springspecies[springids].astype(bool).sum(axis=1)\n",
      "/tmp/ipykernel_3914923/4288318997.py:7: SettingWithCopyWarning: \n",
      "A value is trying to be set on a copy of a slice from a DataFrame.\n",
      "Try using .loc[row_indexer,col_indexer] = value instead\n",
      "\n",
      "See the caveats in the documentation: https://pandas.pydata.org/pandas-docs/stable/user_guide/indexing.html#returning-a-view-versus-a-copy\n",
      "  fallspecies[\"nonzero\"] = fallspecies[fallids].astype(bool).sum(axis=1)\n",
      "/tmp/ipykernel_3914923/4288318997.py:6: SettingWithCopyWarning: \n",
      "A value is trying to be set on a copy of a slice from a DataFrame.\n",
      "Try using .loc[row_indexer,col_indexer] = value instead\n",
      "\n",
      "See the caveats in the documentation: https://pandas.pydata.org/pandas-docs/stable/user_guide/indexing.html#returning-a-view-versus-a-copy\n",
      "  springspecies[\"nonzero\"] = springspecies[springids].astype(bool).sum(axis=1)\n",
      "/tmp/ipykernel_3914923/4288318997.py:7: SettingWithCopyWarning: \n",
      "A value is trying to be set on a copy of a slice from a DataFrame.\n",
      "Try using .loc[row_indexer,col_indexer] = value instead\n",
      "\n",
      "See the caveats in the documentation: https://pandas.pydata.org/pandas-docs/stable/user_guide/indexing.html#returning-a-view-versus-a-copy\n",
      "  fallspecies[\"nonzero\"] = fallspecies[fallids].astype(bool).sum(axis=1)\n",
      "/tmp/ipykernel_3914923/4288318997.py:6: SettingWithCopyWarning: \n",
      "A value is trying to be set on a copy of a slice from a DataFrame.\n",
      "Try using .loc[row_indexer,col_indexer] = value instead\n",
      "\n",
      "See the caveats in the documentation: https://pandas.pydata.org/pandas-docs/stable/user_guide/indexing.html#returning-a-view-versus-a-copy\n",
      "  springspecies[\"nonzero\"] = springspecies[springids].astype(bool).sum(axis=1)\n",
      "/tmp/ipykernel_3914923/4288318997.py:7: SettingWithCopyWarning: \n",
      "A value is trying to be set on a copy of a slice from a DataFrame.\n",
      "Try using .loc[row_indexer,col_indexer] = value instead\n",
      "\n",
      "See the caveats in the documentation: https://pandas.pydata.org/pandas-docs/stable/user_guide/indexing.html#returning-a-view-versus-a-copy\n",
      "  fallspecies[\"nonzero\"] = fallspecies[fallids].astype(bool).sum(axis=1)\n",
      "/tmp/ipykernel_3914923/4288318997.py:6: SettingWithCopyWarning: \n",
      "A value is trying to be set on a copy of a slice from a DataFrame.\n",
      "Try using .loc[row_indexer,col_indexer] = value instead\n",
      "\n",
      "See the caveats in the documentation: https://pandas.pydata.org/pandas-docs/stable/user_guide/indexing.html#returning-a-view-versus-a-copy\n",
      "  springspecies[\"nonzero\"] = springspecies[springids].astype(bool).sum(axis=1)\n",
      "/tmp/ipykernel_3914923/4288318997.py:7: SettingWithCopyWarning: \n",
      "A value is trying to be set on a copy of a slice from a DataFrame.\n",
      "Try using .loc[row_indexer,col_indexer] = value instead\n",
      "\n",
      "See the caveats in the documentation: https://pandas.pydata.org/pandas-docs/stable/user_guide/indexing.html#returning-a-view-versus-a-copy\n",
      "  fallspecies[\"nonzero\"] = fallspecies[fallids].astype(bool).sum(axis=1)\n",
      "/tmp/ipykernel_3914923/4288318997.py:6: SettingWithCopyWarning: \n",
      "A value is trying to be set on a copy of a slice from a DataFrame.\n",
      "Try using .loc[row_indexer,col_indexer] = value instead\n",
      "\n",
      "See the caveats in the documentation: https://pandas.pydata.org/pandas-docs/stable/user_guide/indexing.html#returning-a-view-versus-a-copy\n",
      "  springspecies[\"nonzero\"] = springspecies[springids].astype(bool).sum(axis=1)\n",
      "/tmp/ipykernel_3914923/4288318997.py:7: SettingWithCopyWarning: \n",
      "A value is trying to be set on a copy of a slice from a DataFrame.\n",
      "Try using .loc[row_indexer,col_indexer] = value instead\n",
      "\n",
      "See the caveats in the documentation: https://pandas.pydata.org/pandas-docs/stable/user_guide/indexing.html#returning-a-view-versus-a-copy\n",
      "  fallspecies[\"nonzero\"] = fallspecies[fallids].astype(bool).sum(axis=1)\n"
     ]
    }
   ],
   "source": [
    "for lake in lakes[\"Name\"].unique():\n",
    "    springids = metadata[\"EGCF-ID\"][metadata[\"Name\"] == lake][metadata[\"Season\"] == \"Spring\"].tolist()\n",
    "    fallids = metadata[\"EGCF-ID\"][metadata[\"Name\"] == lake][metadata[\"Season\"] == \"Early Fall\"].tolist()\n",
    "    springspecies = asv[springids + [\"Overall_Best\"]]\n",
    "    fallspecies = asv[fallids + [\"Overall_Best\"]]\n",
    "    springspecies[\"nonzero\"] = springspecies[springids].astype(bool).sum(axis=1)\n",
    "    fallspecies[\"nonzero\"] = fallspecies[fallids].astype(bool).sum(axis=1)\n",
    "    springspecies = springspecies[springspecies[\"nonzero\"] > 0].reset_index(drop=True)\n",
    "    fallspecies = fallspecies[fallspecies[\"nonzero\"] > 0].reset_index(drop=True)\n",
    "    springspp = springspecies[\"Overall_Best\"].unique().tolist()\n",
    "    fallspp = fallspecies[\"Overall_Best\"].unique().tolist()\n",
    "    print(lake, [i + \" spring\" for i in springspp if i not in fallspp] + [i + \" fall\" for i in fallspp if i not in springspp])"
   ]
  },
  {
   "cell_type": "code",
   "execution_count": 169,
   "id": "6d4d84b1",
   "metadata": {
    "scrolled": true
   },
   "outputs": [],
   "source": [
    "fallids = metadata[\"EGCF-ID\"][metadata[\"Name\"] == \"Sagamore\"][metadata[\"Season\"] == \"Early Fall\"].tolist()"
   ]
  },
  {
   "cell_type": "code",
   "execution_count": 170,
   "id": "f3592689",
   "metadata": {},
   "outputs": [],
   "source": [
    "springspecies = asvs[springids + [\"species\"]]"
   ]
  },
  {
   "cell_type": "code",
   "execution_count": 171,
   "id": "39317f3d",
   "metadata": {},
   "outputs": [],
   "source": [
    "fallspecies = asvs[fallids + [\"species\"]]"
   ]
  },
  {
   "cell_type": "code",
   "execution_count": 172,
   "id": "342fd8a0",
   "metadata": {},
   "outputs": [
    {
     "name": "stderr",
     "output_type": "stream",
     "text": [
      "/tmp/ipykernel_597029/2644553305.py:1: SettingWithCopyWarning: \n",
      "A value is trying to be set on a copy of a slice from a DataFrame.\n",
      "Try using .loc[row_indexer,col_indexer] = value instead\n",
      "\n",
      "See the caveats in the documentation: https://pandas.pydata.org/pandas-docs/stable/user_guide/indexing.html#returning-a-view-versus-a-copy\n",
      "  springspecies[\"nonzero\"] = springspecies[springids].astype(bool).sum(axis=1)\n",
      "/tmp/ipykernel_597029/2644553305.py:2: SettingWithCopyWarning: \n",
      "A value is trying to be set on a copy of a slice from a DataFrame.\n",
      "Try using .loc[row_indexer,col_indexer] = value instead\n",
      "\n",
      "See the caveats in the documentation: https://pandas.pydata.org/pandas-docs/stable/user_guide/indexing.html#returning-a-view-versus-a-copy\n",
      "  fallspecies[\"nonzero\"] = fallspecies[fallids].astype(bool).sum(axis=1)\n"
     ]
    }
   ],
   "source": [
    "springspecies[\"nonzero\"] = springspecies[springids].astype(bool).sum(axis=1)\n",
    "fallspecies[\"nonzero\"] = fallspecies[fallids].astype(bool).sum(axis=1)\n",
    "springspecies = springspecies[springspecies[\"nonzero\"] > 0].reset_index(drop=True)\n",
    "fallspecies = fallspecies[fallspecies[\"nonzero\"] > 0].reset_index(drop=True)"
   ]
  },
  {
   "cell_type": "code",
   "execution_count": 173,
   "id": "31ad0872",
   "metadata": {},
   "outputs": [],
   "source": [
    "springspp = springspecies[\"species\"].unique().tolist()\n",
    "fallspp = fallspecies[\"species\"].unique().tolist()"
   ]
  },
  {
   "cell_type": "code",
   "execution_count": 175,
   "id": "b798c7d3",
   "metadata": {},
   "outputs": [
    {
     "data": {
      "text/plain": [
       "['Carassius spring',\n",
       " 'Ancherythroculter spring',\n",
       " 'Chrosomus neogaeus fall',\n",
       " 'Coregonus fall',\n",
       " 'Salmo salar fall',\n",
       " 'Bos fall',\n",
       " 'Eurycea bislineata fall',\n",
       " 'Sus scrofa fall',\n",
       " 'Coregonus clupeaformis fall',\n",
       " 'Micropterus salmoides fall']"
      ]
     },
     "execution_count": 175,
     "metadata": {},
     "output_type": "execute_result"
    }
   ],
   "source": [
    "[i + \" spring\" for i in springspp if i not in fallspp] + [i + \" fall\" for i in fallspp if i not in springspp]"
   ]
  }
 ],
 "metadata": {
  "kernelspec": {
   "display_name": "Masters Env",
   "language": "python",
   "name": "masters"
  },
  "language_info": {
   "codemirror_mode": {
    "name": "ipython",
    "version": 3
   },
   "file_extension": ".py",
   "mimetype": "text/x-python",
   "name": "python",
   "nbconvert_exporter": "python",
   "pygments_lexer": "ipython3",
   "version": "3.10.8"
  }
 },
 "nbformat": 4,
 "nbformat_minor": 5
}
