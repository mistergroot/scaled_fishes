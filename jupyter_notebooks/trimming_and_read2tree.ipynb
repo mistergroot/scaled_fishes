{
 "cells": [
  {
   "cell_type": "code",
   "execution_count": null,
   "id": "310c7de7",
   "metadata": {},
   "outputs": [],
   "source": []
  },
  {
   "cell_type": "code",
   "execution_count": null,
   "id": "c8ba19eb",
   "metadata": {},
   "outputs": [],
   "source": [
    "#!/bin/bash\n",
    "#SBATCH --nodes=1\n",
    "#SBATCH --ntasks=1\n",
    "#SBATCH --mem=12GB\n",
    "#SBATCH --time=24:00:00\n",
    "#SBATCH --job-name=trimgalore\n",
    "\n",
    "source ~/.bashrc\n",
    "conda activate deseq2\n",
    "cd /storage/home/nsl5160/scratch/trout_mito_data/\n",
    "mkdir -p ./trimmed\n",
    "\n",
    "trim_galore \\\n",
    "        /storage/home/nsl5160/scratch/trout_mito_data/sra_downloads/SRR6903116_1.fastq \\\n",
    "        --gzip \\\n",
    "        -o /storage/home/nsl5160/scratch/trout_mito_data/trimmed"
   ]
  },
  {
   "cell_type": "code",
   "execution_count": null,
   "id": "c715d4d8",
   "metadata": {},
   "outputs": [],
   "source": [
    "#!/bin/bash\n",
    "#SBATCH --nodes=1\n",
    "#SBATCH --ntasks=1\n",
    "#SBATCH --mem=12GB\n",
    "#SBATCH --time=24:00:00\n",
    "#SBATCH --job-name=trimgalore\n",
    "\n",
    "source ~/.bashrc\n",
    "conda activate deseq2\n",
    "mkdir -p ~/scratch/trout\n",
    "cd ~/scratch/trout/\n",
    "mkdir -p ./trimmed\n",
    "cd ./trimmed\n",
    "\n",
    "trim_galore \\\n",
    "        --paired ~/scratch/trout_mito_data/usftp21.novogene.com/01.RawData/tmpspot/tmpspot_*_1.fq.gz \\\n",
    "        ~/scratch/trout_mito_data/usftp21.novogene.com/01.RawData/tmpspot/tmpspot_*_2.fq.gz \\\n",
    "        --gzip \\\n",
    "        -o ~/scratch/trout/trimmed"
   ]
  }
 ],
 "metadata": {
  "kernelspec": {
   "display_name": "Masters Env",
   "language": "python",
   "name": "masters"
  },
  "language_info": {
   "codemirror_mode": {
    "name": "ipython",
    "version": 3
   },
   "file_extension": ".py",
   "mimetype": "text/x-python",
   "name": "python",
   "nbconvert_exporter": "python",
   "pygments_lexer": "ipython3",
   "version": "3.10.8"
  }
 },
 "nbformat": 4,
 "nbformat_minor": 5
}
